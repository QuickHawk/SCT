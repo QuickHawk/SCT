{
 "cells": [
  {
   "cell_type": "code",
   "execution_count": 1,
   "metadata": {},
   "outputs": [],
   "source": [
    "import numpy\n",
    "import pandas\n",
    "\n",
    "from sklearn.model_selection import train_test_split\n",
    "from matplotlib import pyplot\n",
    "\n",
    "from tqdm import trange"
   ]
  },
  {
   "cell_type": "markdown",
   "metadata": {},
   "source": [
    "### Hyperparameters"
   ]
  },
  {
   "cell_type": "code",
   "execution_count": 2,
   "metadata": {},
   "outputs": [],
   "source": [
    "LEARNING_RATE = 0.1\n",
    "SEED_VALUE = 2904\n",
    "\n",
    "numpy.random.seed(SEED_VALUE)"
   ]
  },
  {
   "cell_type": "markdown",
   "metadata": {},
   "source": [
    "### Loading Data"
   ]
  },
  {
   "cell_type": "code",
   "execution_count": 3,
   "metadata": {},
   "outputs": [
    {
     "name": "stdout",
     "output_type": "stream",
     "text": [
      "   age  sex  cp  trestbps  chol  fbs  restecg  thalach  exang  oldpeak  slope  \\\n",
      "0   52    1   0       125   212    0        1      168      0      1.0      2   \n",
      "1   53    1   0       140   203    1        0      155      1      3.1      0   \n",
      "2   70    1   0       145   174    0        1      125      1      2.6      0   \n",
      "3   61    1   0       148   203    0        1      161      0      0.0      2   \n",
      "4   62    0   0       138   294    1        1      106      0      1.9      1   \n",
      "\n",
      "   ca  thal  target  \n",
      "0   2     3       0  \n",
      "1   0     3       0  \n",
      "2   0     3       0  \n",
      "3   1     3       0  \n",
      "4   3     2       0  \n"
     ]
    }
   ],
   "source": [
    "url = \"heart.csv\"\n",
    "\n",
    "data = pandas.read_csv(url)\n",
    "\n",
    "# Normalizing\n",
    "data_orig = data.copy()\n",
    "\n",
    "print(data.head())"
   ]
  },
  {
   "cell_type": "markdown",
   "metadata": {},
   "source": [
    "### Understanding data\n",
    "\n",
    "Columns represent the following:-\n",
    "\n",
    "1.  `age` - Age of the person\n",
    "2.  `sex` - Gender of the person\n",
    "3.  `cp` - chest pain type (4 Levels)\n",
    "4.  `trestbps` - resting blood pressure\n",
    "5.  `chol` - serum cholestoral in mg/dl\n",
    "6.  `fbs` - fasting blood sugar > 120 mg/dl\n",
    "7.  `restecg` - resting electrocardiographic results (values 0,1,2)\n",
    "8.  `thalach` - maximum heart rate achieved\n",
    "9.  `exang` - exercise induced angina\n",
    "10. `oldpeak` -  oldpeak = ST depression induced by exercise relative to rest\n",
    "11. `slope` -  the slope of the peak exercise ST segment\n",
    "12. `ca` -  number of major vessels (0-3) colored by flourosopy\n",
    "13. `thal` -  thal: 0 = normal; 1 = fixed defect; 2 = reversable defect\n",
    "\n",
    "target - presence of heart disease"
   ]
  },
  {
   "cell_type": "code",
   "execution_count": 4,
   "metadata": {},
   "outputs": [
    {
     "name": "stdout",
     "output_type": "stream",
     "text": [
      "Features:  ['age' 'sex' 'cp' 'trestbps' 'chol' 'fbs' 'restecg' 'thalach' 'exang'\n",
      " 'oldpeak' 'slope' 'ca' 'thal']\n",
      "Classes: [0 1]\n"
     ]
    }
   ],
   "source": [
    "features = data.columns[:-1].values\n",
    "classes = data.iloc[:, -1].unique()\n",
    "\n",
    "print(\"Features: \", features)\n",
    "print(\"Classes:\", classes)"
   ]
  },
  {
   "cell_type": "code",
   "execution_count": 5,
   "metadata": {},
   "outputs": [
    {
     "data": {
      "text/plain": [
       "(13, 1)"
      ]
     },
     "execution_count": 5,
     "metadata": {},
     "output_type": "execute_result"
    }
   ],
   "source": [
    "m = len(features) # 13\n",
    "n = 1\n",
    "\n",
    "m, n"
   ]
  },
  {
   "cell_type": "code",
   "execution_count": 6,
   "metadata": {},
   "outputs": [
    {
     "data": {
      "text/plain": [
       "(1025, 14)"
      ]
     },
     "execution_count": 6,
     "metadata": {},
     "output_type": "execute_result"
    }
   ],
   "source": [
    "# Size of data\n",
    "\n",
    "data.shape"
   ]
  },
  {
   "cell_type": "markdown",
   "metadata": {},
   "source": [
    "### Normalizing data\n",
    "\n",
    "1. Min-Max Normalization\n",
    "2. **Z-Score Normalization**\n",
    "3. Just divide by Max"
   ]
  },
  {
   "cell_type": "code",
   "execution_count": 7,
   "metadata": {},
   "outputs": [],
   "source": [
    "def normalize_data(X, data):\n",
    "    ''' Z-Score Normalization '''\n",
    "    return (X - data.mean()) / data.std()"
   ]
  },
  {
   "cell_type": "code",
   "execution_count": 8,
   "metadata": {},
   "outputs": [],
   "source": [
    "feature_data = data[features]\n",
    "feature_data = normalize_data(feature_data, data[features])"
   ]
  },
  {
   "cell_type": "code",
   "execution_count": 9,
   "metadata": {},
   "outputs": [],
   "source": [
    "train_x, test_x, train_y, test_y = train_test_split(feature_data, data.iloc[:, -1], test_size=0.3, random_state=1)\n",
    "\n",
    "# Converting to numpy.ndarray\n",
    "train_x = train_x.values\n",
    "train_y = train_y.values\n",
    "test_x = test_x.values\n",
    "test_y = test_y.values"
   ]
  },
  {
   "cell_type": "code",
   "execution_count": 10,
   "metadata": {},
   "outputs": [
    {
     "data": {
      "text/plain": [
       "((717, 13), (308, 13))"
      ]
     },
     "execution_count": 10,
     "metadata": {},
     "output_type": "execute_result"
    }
   ],
   "source": [
    "train_x.shape, test_x.shape"
   ]
  },
  {
   "cell_type": "markdown",
   "metadata": {},
   "source": [
    "### Loss Function\n",
    "\n",
    "Mean Squared Error\n",
    "\n",
    "$E_{avg} = \\frac{1}{2}~\\sum_{k \\in K} E_k$"
   ]
  },
  {
   "cell_type": "code",
   "execution_count": 11,
   "metadata": {},
   "outputs": [],
   "source": [
    "class MSE_Loss:\n",
    "    ''' Loss Function - Mean Squared Error '''\n",
    "    \n",
    "    def fn(D: numpy.ndarray, Y: numpy.ndarray):\n",
    "        ''' MSE - Loss '''\n",
    "        return .5 * numpy.sum(numpy.power(D - Y, 2), axis = 0)\n",
    "        # return (1 / D.shape[0]) * numpy.sum(0.5 * numpy.sum(numpy.power(D - Y, 2), axis = 0))\n",
    "    \n",
    "    def deriv_fn(D: numpy.ndarray, Y: numpy.ndarray) -> numpy.ndarray:\n",
    "        ''' MSE - Derivative Function'''\n",
    "        return numpy.sum(D - Y, axis = 0)"
   ]
  },
  {
   "cell_type": "markdown",
   "metadata": {},
   "source": [
    "### Sigmoid Activation\n",
    "\n",
    "$\\phi (x) = \\frac{1}{1 + e^{-x}}$\n",
    "\n",
    "$\\phi'(x) = \\phi(x)(1 - \\phi(x))$"
   ]
  },
  {
   "cell_type": "code",
   "execution_count": 12,
   "metadata": {},
   "outputs": [],
   "source": [
    "class Sigmoid:\n",
    "    ''' Sigmoid Activation Function '''\n",
    "    \n",
    "    def fn(v: numpy.ndarray) -> numpy.ndarray:\n",
    "        ''' Sigmoid function '''\n",
    "        return 1. / ( 1. + numpy.exp(-v) )\n",
    "    \n",
    "    def deriv_fn(y: numpy.ndarray) -> numpy.ndarray:\n",
    "        ''' Derivative of Sigmoid Function '''\n",
    "        y_temp = y.astype(float)\n",
    "        return y_temp * (1 - y_temp)"
   ]
  },
  {
   "cell_type": "markdown",
   "metadata": {},
   "source": [
    "### Multi-layer Perceptron"
   ]
  },
  {
   "cell_type": "code",
   "execution_count": 13,
   "metadata": {},
   "outputs": [],
   "source": [
    "class MLP:\n",
    "    ''' Multilayer Perceptron with only 1 hidden layer '''\n",
    "    \n",
    "    def __init__(self, input_m: int, hidden_k: int, output_n: int):\n",
    "        \n",
    "        self.m = input_m\n",
    "        self.k = hidden_k\n",
    "        self.n = output_n\n",
    "        \n",
    "        self.wts_x_h = numpy.random.randn(self.m, self.k)\n",
    "        self.wts_h_y = numpy.random.randn(self.k, self.n)\n",
    "        \n",
    "        self.bias_h = numpy.random.random((1, self.k))\n",
    "        self.bias_y = numpy.random.random((1, self.n))\n",
    "    \n",
    "    def train(self, X: numpy.ndarray, D: numpy.ndarray, val_X: numpy.ndarray = None, val_D: numpy.ndarray = None, epochs: int = 5):\n",
    "        ''' Training the dataset '''\n",
    "        \n",
    "        metrics = {\n",
    "            \"loss\": [], \n",
    "            \"accuracy\": []\n",
    "        }\n",
    "        \n",
    "        epoch_range = trange(epochs)\n",
    "        batch_size = 1\n",
    "        \n",
    "        for _ in epoch_range:\n",
    "            for i in range(0, X.shape[0], batch_size):\n",
    "                \n",
    "                x = X[i:i+batch_size]\n",
    "                d = D[i:i+batch_size]\n",
    "                \n",
    "                # Feed forward\n",
    "                y1, y2 = self.predict(x)\n",
    "                \n",
    "                # Backpropogation\n",
    "                \n",
    "                output_error = MSE_Loss.deriv_fn(d, y2)\n",
    "                output_delta = output_error * Sigmoid.deriv_fn(y2)\n",
    "                # Above code should be v2 instead of y2 \n",
    "                # but the code is changed in sigmoid function.\n",
    "                \n",
    "                hidden_error = output_delta.dot(self.wts_h_y.T)\n",
    "                hidden_delta = hidden_error * Sigmoid.deriv_fn(y1)\n",
    "                \n",
    "                delta_w_output = LEARNING_RATE * numpy.dot(y1.T, output_delta)\n",
    "                delta_w_hidden = LEARNING_RATE * numpy.dot(x.T, hidden_delta)\n",
    "                \n",
    "                # Updating wts and bias\n",
    "                self.wts_h_y = self.wts_h_y + delta_w_output\n",
    "                self.wts_x_h = self.wts_x_h + delta_w_hidden\n",
    "\n",
    "                self.bias_y = self.bias_y + numpy.sum(delta_w_output, axis = 0)\n",
    "                self.bias_h = self.bias_h + numpy.sum(delta_w_hidden, axis = 0)\n",
    "            \n",
    "            if val_X is not None and val_D is not None:\n",
    "                _, y_pred = self.predict(val_X)\n",
    "                metrics['loss'].append(MSE_Loss.fn(val_D, y_pred))\n",
    "                metrics['accuracy'].append(MLP.accuracy(val_D, y_pred))\n",
    "       \n",
    "        return metrics\n",
    "        \n",
    "    def accuracy(D: numpy.ndarray, Y: numpy.ndarray):\n",
    "        ''' Accuracy (tightly coupled) '''\n",
    "        Y_temp = (Y > 0.5).astype(int)\n",
    "        return numpy.sum(D == Y_temp) / D.shape[0]        \n",
    "            \n",
    "    def predict(self, X: numpy.ndarray):\n",
    "        ''' Prediction of data '''\n",
    "        \n",
    "        v1 = X.dot(self.wts_x_h) + self.bias_h\n",
    "        y1 = Sigmoid.fn(v1)\n",
    "        \n",
    "        v2 = y1.dot(self.wts_h_y) + self.bias_y\n",
    "        y2 = Sigmoid.fn(v2)\n",
    "        \n",
    "        return [y1, y2]\n",
    "    "
   ]
  },
  {
   "cell_type": "code",
   "execution_count": 14,
   "metadata": {},
   "outputs": [
    {
     "name": "stderr",
     "output_type": "stream",
     "text": [
      "100%|██████████| 250/250 [00:08<00:00, 30.12it/s]\n"
     ]
    }
   ],
   "source": [
    "model = MLP(m, 10, n)\n",
    "\n",
    "train_y = train_y[:, None]\n",
    "test_y = test_y[:, None]\n",
    "\n",
    "metrics = model.train(train_x, train_y, test_x, test_y, 250)"
   ]
  },
  {
   "cell_type": "code",
   "execution_count": 15,
   "metadata": {},
   "outputs": [
    {
     "name": "stdout",
     "output_type": "stream",
     "text": [
      "[[0 1 1 0 0 1 1 1 0 1]]\n",
      "[[0 1 1 1 0 1 1 1 0 1]]\n"
     ]
    }
   ],
   "source": [
    "_, pred_y = model.predict(test_x)\n",
    "print(test_y[:10].T)\n",
    "print((pred_y[:10].T > 0.5).astype(int))"
   ]
  },
  {
   "cell_type": "markdown",
   "metadata": {},
   "source": [
    "### Metrics\n",
    "\n",
    "We plot the available plots - Loss and Accuracy over epochs. \n",
    "\n",
    "This gives us an idea of how the model has performed and how is it learning parameters. "
   ]
  },
  {
   "cell_type": "code",
   "execution_count": 18,
   "metadata": {},
   "outputs": [
    {
     "data": {
      "image/png": "[encoded data removed]",
      "text/plain": [
       "<Figure size 700x300 with 2 Axes>"
      ]
     },
     "metadata": {},
     "output_type": "display_data"
    }
   ],
   "source": [
    "_, (ax1, ax2) = pyplot.subplots(1, 2, figsize=(7, 3))\n",
    "\n",
    "ax1.plot(metrics['loss'])\n",
    "ax1.set_xlabel(\"Epochs\")\n",
    "ax1.set_ylabel(\"Loss\")\n",
    "ax1.set_title(\"Loss vs Epochs\")\n",
    "\n",
    "ax2.plot(metrics['accuracy'])\n",
    "ax2.set_xlabel(\"Epochs\")\n",
    "ax2.set_ylabel(\"Accuracy\")\n",
    "ax2.set_title(\"Accuracy vs Epochs\")\n",
    "\n",
    "pyplot.show()"
   ]
  },
  {
   "cell_type": "markdown",
   "metadata": {},
   "source": [
    "### Testing"
   ]
  },
  {
   "cell_type": "code",
   "execution_count": 17,
   "metadata": {},
   "outputs": [
    {
     "name": "stdout",
     "output_type": "stream",
     "text": [
      "Sample of Desired Output and Actual Output:\n",
      "Desired Output : [0 1 1 0 0 1 1 1 0 1]\n",
      "Actual Output : [0 1 1 1 0 1 1 1 0 1]\n",
      "\n",
      "Accuracy on Test Dataset : 0.9512987012987013\n",
      "\n",
      "Very Good Model\n"
     ]
    }
   ],
   "source": [
    "y_pred = model.predict(test_x)\n",
    "\n",
    "print(\"Sample of Desired Output and Actual Output:\")\n",
    "\n",
    "print(f\"Desired Output : {test_y.T[0][:10]}\")\n",
    "print(f\"Actual Output : {(y_pred[-1].T[0] > .5).astype(int)[:10]}\")\n",
    "print()\n",
    "\n",
    "test_accuracy = MLP.accuracy(test_y, y_pred[-1]) \n",
    "\n",
    "print(f\"Accuracy on Test Dataset : {test_accuracy}\")\n",
    "print()\n",
    "\n",
    "if test_accuracy > .95: print(\"Very Good Model\")\n",
    "elif test_accuracy > .9: print(\"Good Model\")\n",
    "elif test_accuracy > .8: print(\"Decent Model\")\n",
    "else: print(\"Not a good model\")"
   ]
  },
  {
   "cell_type": "code",
   "execution_count": null,
   "metadata": {},
   "outputs": [],
   "source": []
  }
 ],
 "metadata": {
  "kernelspec": {
   "display_name": "Python 3",
   "language": "python",
   "name": "python3"
  },
  "language_info": {
   "codemirror_mode": {
    "name": "ipython",
    "version": 3
   },
   "file_extension": ".py",
   "mimetype": "text/x-python",
   "name": "python",
   "nbconvert_exporter": "python",
   "pygments_lexer": "ipython3",
   "version": "3.12.0"
  }
 },
 "nbformat": 4,
 "nbformat_minor": 2
}
